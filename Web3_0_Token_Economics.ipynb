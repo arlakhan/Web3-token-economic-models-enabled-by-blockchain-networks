{
  "nbformat": 4,
  "nbformat_minor": 0,
  "metadata": {
    "colab": {
      "provenance": []
    },
    "kernelspec": {
      "name": "python3",
      "display_name": "Python 3"
    },
    "language_info": {
      "name": "python"
    }
  },
  "cells": [
    {
      "cell_type": "code",
      "execution_count": 4,
      "metadata": {
        "id": "hVXnMWcPDOjt"
      },
      "outputs": [],
      "source": [
        "import hashlib\n",
        "import json\n",
        "from time import time\n",
        "\n",
        "class Blockchain:\n",
        "    def __init__(self):\n",
        "        self.chain = []\n",
        "        self.pending_transactions = []\n",
        "\n",
        "        # Create the genesis block\n",
        "        self.new_block(previous_hash='1', proof=100)\n",
        "\n",
        "    def new_block(self, proof, previous_hash=None):\n",
        "        block = {\n",
        "            'index': len(self.chain) + 1,\n",
        "            'timestamp': time(),\n",
        "            'transactions': self.pending_transactions,\n",
        "            'proof': proof,\n",
        "            'previous_hash': previous_hash or self.hash(self.chain[-1]),\n",
        "        }\n",
        "\n",
        "        # Reset the current list of transactions\n",
        "        self.pending_transactions = []\n",
        "        self.chain.append(block)\n",
        "        return block\n",
        "\n",
        "    def new_transaction(self, sender, recipient, amount):\n",
        "        self.pending_transactions.append({\n",
        "            'sender': sender,\n",
        "            'recipient': recipient,\n",
        "            'amount': amount,\n",
        "        })\n",
        "\n",
        "        return self.last_block['index'] + 1\n",
        "\n",
        "    @property\n",
        "    def last_block(self):\n",
        "        return self.chain[-1]\n",
        "\n",
        "    @staticmethod\n",
        "    def hash(block):\n",
        "        block_string = json.dumps(block, sort_keys=True).encode()\n",
        "        return hashlib.sha256(block_string).hexdigest()\n",
        "\n",
        "    def proof_of_work(self, last_proof):\n",
        "        proof = 0\n",
        "        while self.valid_proof(last_proof, proof) is False:\n",
        "            proof += 1\n",
        "        return proof\n",
        "\n",
        "    @staticmethod\n",
        "    def valid_proof(last_proof, proof):\n",
        "        guess = f'{last_proof}{proof}'.encode()\n",
        "        guess_hash = hashlib.sha256(guess).hexdigest()\n",
        "        return guess_hash[:4] == \"0000\"\n",
        "\n",
        "    def is_valid_chain(self, chain):\n",
        "        last_block = chain[0]\n",
        "        current_index = 1\n",
        "\n",
        "        while current_index < len(chain):\n",
        "            block = chain[current_index]\n",
        "            if block['previous_hash'] != self.hash(last_block):\n",
        "                return False\n",
        "\n",
        "            if not self.valid_proof(last_block['proof'], block['proof']):\n",
        "                return False\n",
        "\n",
        "            last_block = block\n",
        "            current_index += 1\n",
        "\n",
        "        return True\n",
        "\n"
      ]
    },
    {
      "cell_type": "code",
      "source": [
        "class TokenEconomy(Blockchain):\n",
        "    def __init__(self):\n",
        "        super().__init__()\n",
        "        self.accounts = {}\n",
        "\n",
        "    def create_account(self, address):\n",
        "        if address not in self.accounts:\n",
        "            self.accounts[address] = 100  # Initial token amount\n",
        "            print(f\"Account created for {address} with 100 tokens.\")\n",
        "        else:\n",
        "            print(f\"Account already exists for {address}.\")\n",
        "\n",
        "    def transfer(self, sender, recipient, amount):\n",
        "        if sender not in self.accounts or recipient not in self.accounts:\n",
        "            return \"Account not found.\"\n",
        "\n",
        "        if self.accounts[sender] < amount:\n",
        "            return \"Insufficient balance.\"\n",
        "\n",
        "        self.accounts[sender] -= amount\n",
        "        self.accounts[recipient] += amount\n",
        "        self.new_transaction(sender, recipient, amount)\n",
        "        print(f\"{amount} tokens transferred from {sender} to {recipient}.\")\n",
        "\n",
        "    def account_balance(self, address):\n",
        "        return self.accounts.get(address, 0)\n",
        "\n",
        "# Example Usage\n",
        "if __name__ == \"__main__\":\n",
        "    # Initialize the token economy\n",
        "    economy = TokenEconomy()\n",
        "\n",
        "    # Create accounts\n",
        "    economy.create_account(\"Abdullah\")\n",
        "    economy.create_account(\"Sajida\")\n",
        "\n",
        "    # Check initial balances\n",
        "    print(f\"Abdullah balance: {economy.account_balance('Abdullah')}\")\n",
        "    print(f\"Sajida balance: {economy.account_balance('Sajida')}\")\n",
        "\n",
        "    # Transfer tokens\n",
        "    economy.transfer(\"Abdullah\", \"Sajida\", 50)\n",
        "\n",
        "    # Check balances after transfer\n",
        "    print(f\"Abdullah balance: {economy.account_balance('Abdullah')}\")\n",
        "    print(f\"Sajida balance: {economy.account_balance('Sajida')}\")\n"
      ],
      "metadata": {
        "colab": {
          "base_uri": "https://localhost:8080/"
        },
        "id": "QIDMutIXDkTI",
        "outputId": "612614c8-50d9-4db4-c465-6fa6b2a1ef97"
      },
      "execution_count": 7,
      "outputs": [
        {
          "output_type": "stream",
          "name": "stdout",
          "text": [
            "Account created for Abdullah with 100 tokens.\n",
            "Account created for Sajida with 100 tokens.\n",
            "Abdullah balance: 100\n",
            "Sajida balance: 100\n",
            "50 tokens transferred from Abdullah to Sajida.\n",
            "Abdullah balance: 50\n",
            "Sajida balance: 150\n"
          ]
        }
      ]
    },
    {
      "cell_type": "code",
      "source": [],
      "metadata": {
        "id": "DACm9j5XDVrW"
      },
      "execution_count": null,
      "outputs": []
    }
  ]
}